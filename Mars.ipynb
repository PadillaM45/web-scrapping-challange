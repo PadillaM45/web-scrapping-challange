{
 "cells": [
  {
   "cell_type": "code",
   "execution_count": 1,
   "metadata": {},
   "outputs": [],
   "source": [
    "import numpy as np \n",
    "import pandas as pd \n",
    "from splinter import Browser \n",
    "from selenium import webdriver\n",
    "import requests as req \n",
    "from bs4 import BeautifulSoup as bs"
   ]
  },
  {
   "cell_type": "code",
   "execution_count": null,
   "metadata": {},
   "outputs": [],
   "source": []
  },
  {
   "cell_type": "code",
   "execution_count": 2,
   "metadata": {},
   "outputs": [],
   "source": [
    "news_data = {}\n",
    "paragraph = [] "
   ]
  },
  {
   "cell_type": "code",
   "execution_count": 3,
   "metadata": {},
   "outputs": [],
   "source": [
    "base_url = \"https://mars.nasa.gov/\"\n",
    "news_url = \"https://mars.nasa.gov/news/\"\n",
    "response1 = req.get(base_url)\n",
    "response2 = req.get(news_url)"
   ]
  },
  {
   "cell_type": "code",
   "execution_count": 4,
   "metadata": {},
   "outputs": [],
   "source": [
    "nasa_soup = bs(response2.text, 'html.parser')  "
   ]
  },
  {
   "cell_type": "code",
   "execution_count": 5,
   "metadata": {},
   "outputs": [
    {
     "data": {
      "text/plain": [
       "<!DOCTYPE html>\n",
       "\n",
       "<html lang=\"en\" xml:lang=\"en\" xmlns=\"http://www.w3.org/1999/xhtml\">\n",
       "<head>\n",
       "<meta content=\"text/html; charset=utf-8\" http-equiv=\"Content-Type\"/>\n",
       "<!-- Always force latest IE rendering engine or request Chrome Frame -->\n",
       "<meta content=\"IE=edge,chrome=1\" http-equiv=\"X-UA-Compatible\"/>\n",
       "<script type=\"text/javascript\">window.NREUM||(NREUM={});NREUM.info={\"beacon\":\"bam.nr-data.net\",\"errorBeacon\":\"bam.nr-data.net\",\"licenseKey\":\"5e33925808\",\"applicationID\":\"59562082\",\"transactionName\":\"JVcPR0MLWApSRU1eAQVVEhxSC1oSUlkWbBMHXwRAHhdcCUA=\",\"queueTime\":0,\"applicationTime\":229,\"agent\":\"\"}</script>\n",
       "<script type=\"text/javascript\">(window.NREUM||(NREUM={})).loader_config={xpid:\"VQcPUlZTDxAFXVRUBQEPVA==\"};window.NREUM||(NREUM={}),__nr_require=function(t,n,e){function r(e){if(!n[e]){var o=n[e]={exports:{}};t[e][0].call(o.exports,function(n){var o=t[e][1][n];return r(o||n)},o,o.exports)}return n[e].exports}if(\"function\"==typeof __nr_require)return __nr_require;for(var o=0;o<e.length;o++)r(e[o]);return r}({1:[function(t,n,e){function r(t){try{s.console&&console.log(t)}catch(n){}}var o,i=t(\"ee\"),a=t(18),s={};try{o=localStorage.getItem(\"__nr_flags\").split(\",\"),console&&\"function\"==typeof console.log&&(s.console=!0,o.indexOf(\"dev\")!==-1&&(s.dev=!0),o.indexOf(\"nr_dev\")!==-1&&(s.nrDev=!0))}catch(c){}s.nrDev&&i.on(\"internal-error\",function(t){r(t.stack)}),s.dev&&i.on(\"fn-err\",function(t,n,e){r(e.stack)}),s.dev&&(r(\"NR AGENT IN DEVELOPMENT MODE\"),r(\"flags: \"+a(s,function(t,n){return t}).join(\", \")))},{}],2:[function(t,n,e){function r(t,n,e,r,s){try{p?p-=1:o(s||new UncaughtException(t,n,e),!0)}catch(f){try{i(\"ierr\",[f,c.now(),!0])}catch(d){}}return\"function\"==typeof u&&u.apply(this,a(arguments))}function UncaughtException(t,n,e){this.message=t||\"Uncaught error with no additional information\",this.sourceURL=n,this.line=e}function o(t,n){var e=n?null:c.now();i(\"err\",[t,e])}var i=t(\"handle\"),a=t(19),s=t(\"ee\"),c=t(\"loader\"),f=t(\"gos\"),u=window.onerror,d=!1,l=\"nr@seenError\",p=0;c.features.err=!0,t(1),window.onerror=r;try{throw new Error}catch(h){\"stack\"in h&&(t(8),t(7),\"addEventListener\"in window&&t(5),c.xhrWrappable&&t(9),d=!0)}s.on(\"fn-start\",function(t,n,e){d&&(p+=1)}),s.on(\"fn-err\",function(t,n,e){d&&!e[l]&&(f(e,l,function(){return!0}),this.thrown=!0,o(e))}),s.on(\"fn-end\",function(){d&&!this.thrown&&p>0&&(p-=1)}),s.on(\"internal-error\",function(t){i(\"ierr\",[t,c.now(),!0])})},{}],3:[function(t,n,e){t(\"loader\").features.ins=!0},{}],4:[function(t,n,e){function r(t){}if(window.performance&&window.performance.timing&&window.performance.getEntriesByType){var o=t(\"ee\"),i=t(\"handle\"),a=t(8),s=t(7),c=\"learResourceTimings\",f=\"addEventListener\",u=\"resourcetimingbufferfull\",d=\"bstResource\",l=\"resource\",p=\"-start\",h=\"-end\",m=\"fn\"+p,w=\"fn\"+h,v=\"bstTimer\",y=\"pushState\",g=t(\"loader\");g.features.stn=!0,t(6);var x=NREUM.o.EV;o.on(m,function(t,n){var e=t[0];e instanceof x&&(this.bstStart=g.now())}),o.on(w,function(t,n){var e=t[0];e instanceof x&&i(\"bst\",[e,n,this.bstStart,g.now()])}),a.on(m,function(t,n,e){this.bstStart=g.now(),this.bstType=e}),a.on(w,function(t,n){i(v,[n,this.bstStart,g.now(),this.bstType])}),s.on(m,function(){this.bstStart=g.now()}),s.on(w,function(t,n){i(v,[n,this.bstStart,g.now(),\"requestAnimationFrame\"])}),o.on(y+p,function(t){this.time=g.now(),this.startPath=location.pathname+location.hash}),o.on(y+h,function(t){i(\"bstHist\",[location.pathname+location.hash,this.startPath,this.time])}),f in window.performance&&(window.performance[\"c\"+c]?window.performance[f](u,function(t){i(d,[window.performance.getEntriesByType(l)]),window.performance[\"c\"+c]()},!1):window.performance[f](\"webkit\"+u,function(t){i(d,[window.performance.getEntriesByType(l)]),window.performance[\"webkitC\"+c]()},!1)),document[f](\"scroll\",r,{passive:!0}),document[f](\"keypress\",r,!1),document[f](\"click\",r,!1)}},{}],5:[function(t,n,e){function r(t){for(var n=t;n&&!n.hasOwnProperty(u);)n=Object.getPrototypeOf(n);n&&o(n)}function o(t){s.inPlace(t,[u,d],\"-\",i)}function i(t,n){return t[1]}var a=t(\"ee\").get(\"events\"),s=t(21)(a,!0),c=t(\"gos\"),f=XMLHttpRequest,u=\"addEventListener\",d=\"removeEventListener\";n.exports=a,\"getPrototypeOf\"in Object?(r(document),r(window),r(f.prototype)):f.prototype.hasOwnProperty(u)&&(o(window),o(f.prototype)),a.on(u+\"-start\",function(t,n){var e=t[1],r=c(e,\"nr@wrapped\",function(){function t(){if(\"function\"==typeof e.handleEvent)return e.handleEvent.apply(e,arguments)}var n={object:t,\"function\":e}[typeof e];return n?s(n,\"fn-\",null,n.name||\"anonymous\"):e});this.wrapped=t[1]=r}),a.on(d+\"-start\",function(t){t[1]=this.wrapped||t[1]})},{}],6:[function(t,n,e){var r=t(\"ee\").get(\"history\"),o=t(21)(r);n.exports=r;var i=window.history&&window.history.constructor&&window.history.constructor.prototype,a=window.history;i&&i.pushState&&i.replaceState&&(a=i),o.inPlace(a,[\"pushState\",\"replaceState\"],\"-\")},{}],7:[function(t,n,e){var r=t(\"ee\").get(\"raf\"),o=t(21)(r),i=\"equestAnimationFrame\";n.exports=r,o.inPlace(window,[\"r\"+i,\"mozR\"+i,\"webkitR\"+i,\"msR\"+i],\"raf-\"),r.on(\"raf-start\",function(t){t[0]=o(t[0],\"fn-\")})},{}],8:[function(t,n,e){function r(t,n,e){t[0]=a(t[0],\"fn-\",null,e)}function o(t,n,e){this.method=e,this.timerDuration=isNaN(t[1])?0:+t[1],t[0]=a(t[0],\"fn-\",this,e)}var i=t(\"ee\").get(\"timer\"),a=t(21)(i),s=\"setTimeout\",c=\"setInterval\",f=\"clearTimeout\",u=\"-start\",d=\"-\";n.exports=i,a.inPlace(window,[s,\"setImmediate\"],s+d),a.inPlace(window,[c],c+d),a.inPlace(window,[f,\"clearImmediate\"],f+d),i.on(c+u,r),i.on(s+u,o)},{}],9:[function(t,n,e){function r(t,n){d.inPlace(n,[\"onreadystatechange\"],\"fn-\",s)}function o(){var t=this,n=u.context(t);t.readyState>3&&!n.resolved&&(n.resolved=!0,u.emit(\"xhr-resolved\",[],t)),d.inPlace(t,y,\"fn-\",s)}function i(t){g.push(t),h&&(b?b.then(a):w?w(a):(E=-E,R.data=E))}function a(){for(var t=0;t<g.length;t++)r([],g[t]);g.length&&(g=[])}function s(t,n){return n}function c(t,n){for(var e in t)n[e]=t[e];return n}t(5);var f=t(\"ee\"),u=f.get(\"xhr\"),d=t(21)(u),l=NREUM.o,p=l.XHR,h=l.MO,m=l.PR,w=l.SI,v=\"readystatechange\",y=[\"onload\",\"onerror\",\"onabort\",\"onloadstart\",\"onloadend\",\"onprogress\",\"ontimeout\"],g=[];n.exports=u;var x=window.XMLHttpRequest=function(t){var n=new p(t);try{u.emit(\"new-xhr\",[n],n),n.addEventListener(v,o,!1)}catch(e){try{u.emit(\"internal-error\",[e])}catch(r){}}return n};if(c(p,x),x.prototype=p.prototype,d.inPlace(x.prototype,[\"open\",\"send\"],\"-xhr-\",s),u.on(\"send-xhr-start\",function(t,n){r(t,n),i(n)}),u.on(\"open-xhr-start\",r),h){var b=m&&m.resolve();if(!w&&!m){var E=1,R=document.createTextNode(E);new h(a).observe(R,{characterData:!0})}}else f.on(\"fn-end\",function(t){t[0]&&t[0].type===v||a()})},{}],10:[function(t,n,e){function r(){var t=window.NREUM,n=t.info.accountID||null,e=t.info.agentID||null,r=t.info.trustKey||null,i=\"btoa\"in window&&\"function\"==typeof window.btoa;if(!n||!e||!i)return null;var a={v:[0,1],d:{ty:\"Browser\",ac:n,ap:e,id:o.generateCatId(),tr:o.generateCatId(),ti:Date.now()}};return r&&n!==r&&(a.d.tk=r),btoa(JSON.stringify(a))}var o=t(16);n.exports={generateTraceHeader:r}},{}],11:[function(t,n,e){function r(t){var n=this.params,e=this.metrics;if(!this.ended){this.ended=!0;for(var r=0;r<p;r++)t.removeEventListener(l[r],this.listener,!1);n.aborted||(e.duration=s.now()-this.startTime,this.loadCaptureCalled||4!==t.readyState?null==n.status&&(n.status=0):a(this,t),e.cbTime=this.cbTime,d.emit(\"xhr-done\",[t],t),c(\"xhr\",[n,e,this.startTime]))}}function o(t,n){var e=t.responseType;if(\"json\"===e&&null!==n)return n;var r=\"arraybuffer\"===e||\"blob\"===e||\"json\"===e?t.response:t.responseText;return w(r)}function i(t,n){var e=f(n),r=t.params;r.host=e.hostname+\":\"+e.port,r.pathname=e.pathname,t.sameOrigin=e.sameOrigin}function a(t,n){t.params.status=n.status;var e=o(n,t.lastSize);if(e&&(t.metrics.rxSize=e),t.sameOrigin){var r=n.getResponseHeader(\"X-NewRelic-App-Data\");r&&(t.params.cat=r.split(\", \").pop())}t.loadCaptureCalled=!0}var s=t(\"loader\");if(s.xhrWrappable){var c=t(\"handle\"),f=t(12),u=t(10).generateTraceHeader,d=t(\"ee\"),l=[\"load\",\"error\",\"abort\",\"timeout\"],p=l.length,h=t(\"id\"),m=t(15),w=t(14),v=window.XMLHttpRequest;s.features.xhr=!0,t(9),d.on(\"new-xhr\",function(t){var n=this;n.totalCbs=0,n.called=0,n.cbTime=0,n.end=r,n.ended=!1,n.xhrGuids={},n.lastSize=null,n.loadCaptureCalled=!1,t.addEventListener(\"load\",function(e){a(n,t)},!1),m&&(m>34||m<10)||window.opera||t.addEventListener(\"progress\",function(t){n.lastSize=t.loaded},!1)}),d.on(\"open-xhr-start\",function(t){this.params={method:t[0]},i(this,t[1]),this.metrics={}}),d.on(\"open-xhr-end\",function(t,n){\"loader_config\"in NREUM&&\"xpid\"in NREUM.loader_config&&this.sameOrigin&&n.setRequestHeader(\"X-NewRelic-ID\",NREUM.loader_config.xpid);var e=!1;if(\"init\"in NREUM&&\"distributed_tracing\"in NREUM.init&&(e=!!NREUM.init.distributed_tracing.enabled),e&&this.sameOrigin){var r=u();r&&n.setRequestHeader(\"newrelic\",r)}}),d.on(\"send-xhr-start\",function(t,n){var e=this.metrics,r=t[0],o=this;if(e&&r){var i=w(r);i&&(e.txSize=i)}this.startTime=s.now(),this.listener=function(t){try{\"abort\"!==t.type||o.loadCaptureCalled||(o.params.aborted=!0),(\"load\"!==t.type||o.called===o.totalCbs&&(o.onloadCalled||\"function\"!=typeof n.onload))&&o.end(n)}catch(e){try{d.emit(\"internal-error\",[e])}catch(r){}}};for(var a=0;a<p;a++)n.addEventListener(l[a],this.listener,!1)}),d.on(\"xhr-cb-time\",function(t,n,e){this.cbTime+=t,n?this.onloadCalled=!0:this.called+=1,this.called!==this.totalCbs||!this.onloadCalled&&\"function\"==typeof e.onload||this.end(e)}),d.on(\"xhr-load-added\",function(t,n){var e=\"\"+h(t)+!!n;this.xhrGuids&&!this.xhrGuids[e]&&(this.xhrGuids[e]=!0,this.totalCbs+=1)}),d.on(\"xhr-load-removed\",function(t,n){var e=\"\"+h(t)+!!n;this.xhrGuids&&this.xhrGuids[e]&&(delete this.xhrGuids[e],this.totalCbs-=1)}),d.on(\"addEventListener-end\",function(t,n){n instanceof v&&\"load\"===t[0]&&d.emit(\"xhr-load-added\",[t[1],t[2]],n)}),d.on(\"removeEventListener-end\",function(t,n){n instanceof v&&\"load\"===t[0]&&d.emit(\"xhr-load-removed\",[t[1],t[2]],n)}),d.on(\"fn-start\",function(t,n,e){n instanceof v&&(\"onload\"===e&&(this.onload=!0),(\"load\"===(t[0]&&t[0].type)||this.onload)&&(this.xhrCbStart=s.now()))}),d.on(\"fn-end\",function(t,n){this.xhrCbStart&&d.emit(\"xhr-cb-time\",[s.now()-this.xhrCbStart,this.onload,n],n)})}},{}],12:[function(t,n,e){n.exports=function(t){var n=document.createElement(\"a\"),e=window.location,r={};n.href=t,r.port=n.port;var o=n.href.split(\"://\");!r.port&&o[1]&&(r.port=o[1].split(\"/\")[0].split(\"@\").pop().split(\":\")[1]),r.port&&\"0\"!==r.port||(r.port=\"https\"===o[0]?\"443\":\"80\"),r.hostname=n.hostname||e.hostname,r.pathname=n.pathname,r.protocol=o[0],\"/\"!==r.pathname.charAt(0)&&(r.pathname=\"/\"+r.pathname);var i=!n.protocol||\":\"===n.protocol||n.protocol===e.protocol,a=n.hostname===document.domain&&n.port===e.port;return r.sameOrigin=i&&(!n.hostname||a),r}},{}],13:[function(t,n,e){function r(){}function o(t,n,e){return function(){return i(t,[f.now()].concat(s(arguments)),n?null:this,e),n?void 0:this}}var i=t(\"handle\"),a=t(18),s=t(19),c=t(\"ee\").get(\"tracer\"),f=t(\"loader\"),u=NREUM;\"undefined\"==typeof window.newrelic&&(newrelic=u);var d=[\"setPageViewName\",\"setCustomAttribute\",\"setErrorHandler\",\"finished\",\"addToTrace\",\"inlineHit\",\"addRelease\"],l=\"api-\",p=l+\"ixn-\";a(d,function(t,n){u[n]=o(l+n,!0,\"api\")}),u.addPageAction=o(l+\"addPageAction\",!0),u.setCurrentRouteName=o(l+\"routeName\",!0),n.exports=newrelic,u.interaction=function(){return(new r).get()};var h=r.prototype={createTracer:function(t,n){var e={},r=this,o=\"function\"==typeof n;return i(p+\"tracer\",[f.now(),t,e],r),function(){if(c.emit((o?\"\":\"no-\")+\"fn-start\",[f.now(),r,o],e),o)try{return n.apply(this,arguments)}catch(t){throw c.emit(\"fn-err\",[arguments,this,t],e),t}finally{c.emit(\"fn-end\",[f.now()],e)}}}};a(\"actionText,setName,setAttribute,save,ignore,onEnd,getContext,end,get\".split(\",\"),function(t,n){h[n]=o(p+n)}),newrelic.noticeError=function(t,n){\"string\"==typeof t&&(t=new Error(t)),i(\"err\",[t,f.now(),!1,n])}},{}],14:[function(t,n,e){n.exports=function(t){if(\"string\"==typeof t&&t.length)return t.length;if(\"object\"==typeof t){if(\"undefined\"!=typeof ArrayBuffer&&t instanceof ArrayBuffer&&t.byteLength)return t.byteLength;if(\"undefined\"!=typeof Blob&&t instanceof Blob&&t.size)return t.size;if(!(\"undefined\"!=typeof FormData&&t instanceof FormData))try{return JSON.stringify(t).length}catch(n){return}}}},{}],15:[function(t,n,e){var r=0,o=navigator.userAgent.match(/Firefox[\\/\\s](\\d+\\.\\d+)/);o&&(r=+o[1]),n.exports=r},{}],16:[function(t,n,e){function r(){function t(){return n?15&n[e++]:16*Math.random()|0}var n=null,e=0,r=window.crypto||window.msCrypto;r&&r.getRandomValues&&(n=r.getRandomValues(new Uint8Array(31)));for(var o,i=\"xxxxxxxx-xxxx-4xxx-yxxx-xxxxxxxxxxxx\",a=\"\",s=0;s<i.length;s++)o=i[s],\"x\"===o?a+=t().toString(16):\"y\"===o?(o=3&t()|8,a+=o.toString(16)):a+=o;return a}function o(){function t(){return n?15&n[e++]:16*Math.random()|0}var n=null,e=0,r=window.crypto||window.msCrypto;r&&r.getRandomValues&&Uint8Array&&(n=r.getRandomValues(new Uint8Array(31)));for(var o=[],i=0;i<16;i++)o.push(t().toString(16));return o.join(\"\")}n.exports={generateUuid:r,generateCatId:o}},{}],17:[function(t,n,e){function r(t,n){if(!o)return!1;if(t!==o)return!1;if(!n)return!0;if(!i)return!1;for(var e=i.split(\".\"),r=n.split(\".\"),a=0;a<r.length;a++)if(r[a]!==e[a])return!1;return!0}var o=null,i=null,a=/Version\\/(\\S+)\\s+Safari/;if(navigator.userAgent){var s=navigator.userAgent,c=s.match(a);c&&s.indexOf(\"Chrome\")===-1&&s.indexOf(\"Chromium\")===-1&&(o=\"Safari\",i=c[1])}n.exports={agent:o,version:i,match:r}},{}],18:[function(t,n,e){function r(t,n){var e=[],r=\"\",i=0;for(r in t)o.call(t,r)&&(e[i]=n(r,t[r]),i+=1);return e}var o=Object.prototype.hasOwnProperty;n.exports=r},{}],19:[function(t,n,e){function r(t,n,e){n||(n=0),\"undefined\"==typeof e&&(e=t?t.length:0);for(var r=-1,o=e-n||0,i=Array(o<0?0:o);++r<o;)i[r]=t[n+r];return i}n.exports=r},{}],20:[function(t,n,e){n.exports={exists:\"undefined\"!=typeof window.performance&&window.performance.timing&&\"undefined\"!=typeof window.performance.timing.navigationStart}},{}],21:[function(t,n,e){function r(t){return!(t&&t instanceof Function&&t.apply&&!t[a])}var o=t(\"ee\"),i=t(19),a=\"nr@original\",s=Object.prototype.hasOwnProperty,c=!1;n.exports=function(t,n){function e(t,n,e,o){function nrWrapper(){var r,a,s,c;try{a=this,r=i(arguments),s=\"function\"==typeof e?e(r,a):e||{}}catch(f){l([f,\"\",[r,a,o],s])}u(n+\"start\",[r,a,o],s);try{return c=t.apply(a,r)}catch(d){throw u(n+\"err\",[r,a,d],s),d}finally{u(n+\"end\",[r,a,c],s)}}return r(t)?t:(n||(n=\"\"),nrWrapper[a]=t,d(t,nrWrapper),nrWrapper)}function f(t,n,o,i){o||(o=\"\");var a,s,c,f=\"-\"===o.charAt(0);for(c=0;c<n.length;c++)s=n[c],a=t[s],r(a)||(t[s]=e(a,f?s+o:o,i,s))}function u(e,r,o){if(!c||n){var i=c;c=!0;try{t.emit(e,r,o,n)}catch(a){l([a,e,r,o])}c=i}}function d(t,n){if(Object.defineProperty&&Object.keys)try{var e=Object.keys(t);return e.forEach(function(e){Object.defineProperty(n,e,{get:function(){return t[e]},set:function(n){return t[e]=n,n}})}),n}catch(r){l([r])}for(var o in t)s.call(t,o)&&(n[o]=t[o]);return n}function l(n){try{t.emit(\"internal-error\",n)}catch(e){}}return t||(t=o),e.inPlace=f,e.flag=a,e}},{}],ee:[function(t,n,e){function r(){}function o(t){function n(t){return t&&t instanceof r?t:t?c(t,s,i):i()}function e(e,r,o,i){if(!l.aborted||i){t&&t(e,r,o);for(var a=n(o),s=m(e),c=s.length,f=0;f<c;f++)s[f].apply(a,r);var d=u[g[e]];return d&&d.push([x,e,r,a]),a}}function p(t,n){y[t]=m(t).concat(n)}function h(t,n){var e=y[t];if(e)for(var r=0;r<e.length;r++)e[r]===n&&e.splice(r,1)}function m(t){return y[t]||[]}function w(t){return d[t]=d[t]||o(e)}function v(t,n){f(t,function(t,e){n=n||\"feature\",g[e]=n,n in u||(u[n]=[])})}var y={},g={},x={on:p,addEventListener:p,removeEventListener:h,emit:e,get:w,listeners:m,context:n,buffer:v,abort:a,aborted:!1};return x}function i(){return new r}function a(){(u.api||u.feature)&&(l.aborted=!0,u=l.backlog={})}var s=\"nr@context\",c=t(\"gos\"),f=t(18),u={},d={},l=n.exports=o();l.backlog=u},{}],gos:[function(t,n,e){function r(t,n,e){if(o.call(t,n))return t[n];var r=e();if(Object.defineProperty&&Object.keys)try{return Object.defineProperty(t,n,{value:r,writable:!0,enumerable:!1}),r}catch(i){}return t[n]=r,r}var o=Object.prototype.hasOwnProperty;n.exports=r},{}],handle:[function(t,n,e){function r(t,n,e,r){o.buffer([t],r),o.emit(t,n,e)}var o=t(\"ee\").get(\"handle\");n.exports=r,r.ee=o},{}],id:[function(t,n,e){function r(t){var n=typeof t;return!t||\"object\"!==n&&\"function\"!==n?-1:t===window?0:a(t,i,function(){return o++})}var o=1,i=\"nr@id\",a=t(\"gos\");n.exports=r},{}],loader:[function(t,n,e){function r(){if(!E++){var t=b.info=NREUM.info,n=p.getElementsByTagName(\"script\")[0];if(setTimeout(u.abort,3e4),!(t&&t.licenseKey&&t.applicationID&&n))return u.abort();f(g,function(n,e){t[n]||(t[n]=e)}),c(\"mark\",[\"onload\",a()+b.offset],null,\"api\");var e=p.createElement(\"script\");e.src=\"https://\"+t.agent,n.parentNode.insertBefore(e,n)}}function o(){\"complete\"===p.readyState&&i()}function i(){c(\"mark\",[\"domContent\",a()+b.offset],null,\"api\")}function a(){return R.exists&&performance.now?Math.round(performance.now()):(s=Math.max((new Date).getTime(),s))-b.offset}var s=(new Date).getTime(),c=t(\"handle\"),f=t(18),u=t(\"ee\"),d=t(17),l=window,p=l.document,h=\"addEventListener\",m=\"attachEvent\",w=l.XMLHttpRequest,v=w&&w.prototype;NREUM.o={ST:setTimeout,SI:l.setImmediate,CT:clearTimeout,XHR:w,REQ:l.Request,EV:l.Event,PR:l.Promise,MO:l.MutationObserver};var y=\"\"+location,g={beacon:\"bam.nr-data.net\",errorBeacon:\"bam.nr-data.net\",agent:\"js-agent.newrelic.com/nr-1130.min.js\"},x=w&&v&&v[h]&&!/CriOS/.test(navigator.userAgent),b=n.exports={offset:s,now:a,origin:y,features:{},xhrWrappable:x,userAgent:d};t(13),p[h]?(p[h](\"DOMContentLoaded\",i,!1),l[h](\"load\",r,!1)):(p[m](\"onreadystatechange\",o),l[m](\"onload\",r)),c(\"mark\",[\"firstbyte\",s],null,\"api\");var E=0,R=t(20)},{}]},{},[\"loader\",2,11,4,3]);</script>\n",
       "<!-- Responsiveness -->\n",
       "<meta content=\"width=device-width, initial-scale=1.0\" name=\"viewport\"/>\n",
       "<!-- Favicon -->\n",
       "<link href=\"/apple-touch-icon.png\" rel=\"apple-touch-icon\" sizes=\"180x180\"/>\n",
       "<link href=\"/favicon-32x32.png\" rel=\"icon\" sizes=\"32x32\" type=\"image/png\"/>\n",
       "<link href=\"/favicon-16x16.png\" rel=\"icon\" sizes=\"16x16\" type=\"image/png\"/>\n",
       "<link href=\"/manifest.json\" rel=\"manifest\"/>\n",
       "<link color=\"#e48b55\" href=\"/safari-pinned-tab.svg\" rel=\"mask-icon\"/>\n",
       "<meta content=\"#000000\" name=\"theme-color\"/>\n",
       "<meta content=\"authenticity_token\" name=\"csrf-param\">\n",
       "<meta content=\"E6ZPjqnecNExZci4/B0dB/pv8MFyVThxdM6ixNtjYavN7Ywyils/V4Ihliid7jubWkpJm99sY6wVCS3E7ldK0w==\" name=\"csrf-token\">\n",
       "<title>News  – NASA’s Mars Exploration Program </title>\n",
       "<meta content=\"NASA’s Mars Exploration Program \" property=\"og:site_name\"/>\n",
       "<meta content=\"mars.nasa.gov\" name=\"author\"/>\n",
       "<meta content=\"Mars, missions, NASA, rover, Curiosity, Opportunity, InSight, Mars Reconnaissance Orbiter, facts\" name=\"keywords\"/>\n",
       "<meta content=\"NASA’s real-time portal for Mars exploration, featuring the latest news, images, and discoveries from the Red Planet.\" name=\"description\"/>\n",
       "<meta content=\"NASA’s real-time portal for Mars exploration, featuring the latest news, images, and discoveries from the Red Planet.\" property=\"og:description\"/>\n",
       "<meta content=\"News  – NASA’s Mars Exploration Program \" property=\"og:title\"/>\n",
       "<meta content=\"https://mars.nasa.gov/news\" property=\"og:url\"/>\n",
       "<meta content=\"article\" property=\"og:type\"/>\n",
       "<meta content=\"2017-09-22 19:53:22 UTC\" property=\"og:updated_time\"/>\n",
       "<meta content=\"https://mars.nasa.gov/system/site_config_values/meta_share_images/1_142497main_PIA03154-200.jpg\" property=\"og:image\"/>\n",
       "<meta content=\"https://mars.nasa.gov/system/site_config_values/meta_share_images/1_142497main_PIA03154-200.jpg\" name=\"twitter:image\"/>\n",
       "<link href=\"https://mars.nasa.gov/system/site_config_values/meta_share_images/1_142497main_PIA03154-200.jpg\" rel=\"image_src\"/>\n",
       "<meta content=\"195570401081308\" property=\"fb:app_id\"/>\n",
       "<link href=\"https://fonts.googleapis.com/css?family=Montserrat:200,300,400,500,600,700|Raleway:300,400\" rel=\"stylesheet\"/>\n",
       "<link href=\"/assets/public_manifest-ba326d2caa471a7a93099f5de8040b15db96617d89f0223a4e82daf01794a468.css\" media=\"all\" rel=\"stylesheet\">\n",
       "<link href=\"/assets/mbcms/vendor/jquery.fancybox3-364352e03618ba5a8da007665b1f0be31795293b22bc4d7c5974891d4976a137.css\" media=\"screen\" rel=\"stylesheet\">\n",
       "<link href=\"/assets/gulp/print-240f8bfaa7f6402dfd6c49ee3c1ffea57a89ddd4c8c90e2f2a5c7d63c5753e32.css\" media=\"print\" rel=\"stylesheet\">\n",
       "<script src=\"/assets/public_manifest-f8b8fc11a9a584862a521c638366238d6d55c20e55c5bee19158719c8bf736f9.js\"></script>\n",
       "<script src=\"/assets/mbcms/vendor/jquery.fancybox3-bd48876205805faa43a79e74b656191a4ad37809923b4f3247b571ba82d4458c.js\"></script>\n",
       "<script src=\"/assets/mb_manifest-f0ba992bdf132485d560a90dd370c7cef0eace52589dcc951621f967128499ff.js\"></script>\n",
       "<!--[if gt IE 8]><!-->\n",
       "<script src=\"/assets/not_ie8_manifest.js\"></script>\n",
       "<!--[if !IE]>-->\n",
       "<script src=\"/assets/not_ie8_manifest.js\"></script>\n",
       "<!--<![endif]-->\n",
       "<!-- /twitter cards -->\n",
       "<meta content=\"summary_large_image\" name=\"twitter:card\"/>\n",
       "<meta content=\"News \" name=\"twitter:title\"/>\n",
       "<meta content=\"NASA’s real-time portal for Mars exploration, featuring the latest news, images, and discoveries from the Red Planet.\" name=\"twitter:description\"/>\n",
       "<meta content=\"https://mars.nasa.gov/system/site_config_values/meta_share_images/1_142497main_PIA03154-200.jpg\" name=\"twitter:image\"/>\n",
       "</link></link></link></meta></meta></head>\n",
       "<body id=\"news\">\n",
       "<svg display=\"none\" height=\"0\" width=\"0\">\n",
       "<symbol height=\"30\" id=\"circle_plus\" viewbox=\"0 0 30 30\" width=\"30\">\n",
       "<g fill-rule=\"evenodd\" transform=\"translate(1 1)\">\n",
       "<circle cx=\"14\" cy=\"14\" fill=\"#fff\" fill-opacity=\".1\" fill-rule=\"nonzero\" r=\"14\" stroke=\"inherit\" stroke-width=\"1\"></circle>\n",
       "<path class=\"the_plus\" d=\"m18.856 12.96v1.738h-4.004v3.938h-1.848v-3.938h-4.004v-1.738h4.004v-3.96h1.848v3.96z\" fill=\"inherit\" stroke-width=\"0\"></path>\n",
       "</g>\n",
       "</symbol>\n",
       "<symbol height=\"30\" id=\"circle_arrow\" viewbox=\"0 0 30 30\" width=\"30\" xmlns=\"http://www.w3.org/2000/svg\">\n",
       "<g transform=\"translate(1 1)\"><circle cx=\"14\" cy=\"14\" fill=\"#fff\" fill-opacity=\".1\" r=\"14\" stroke=\"inherit\" stroke-width=\"1\"></circle>\n",
       "<path class=\"the_arrow\" d=\"m8.5 15.00025h7.984l-2.342 2.42c-.189.197-.189.518 0 .715l.684.717c.188.197.494.197.684 0l4.35-4.506c.188-.199.188-.52 0-.717l-4.322-4.48c-.189-.199-.496-.199-.684 0l-.684.716c-.189.197-.189.519 0 .716l2.341 2.419h-8.011c-.276 0-.5.223-.5.5v1c0 .275.224.5.5.5z\" fill=\"inherit\" stroke-width=\"0\"></path>\n",
       "</g>\n",
       "</symbol>\n",
       "<symbol height=\"30\" id=\"circle_close\" viewbox=\"0 0 30 30\" width=\"30\">\n",
       "<g fill-rule=\"evenodd\" transform=\"translate(1 1)\">\n",
       "<circle cx=\"14\" cy=\"14\" fill=\"blue\" fill-opacity=\"1\" fill-rule=\"nonzero\" r=\"14\" stroke=\"inherit\" stroke-width=\"1\"></circle>\n",
       "<path class=\"the_plus\" d=\"m18.856 12.96v1.738h-4.004v3.938h-1.848v-3.938h-4.004v-1.738h4.004v-3.96h1.848v3.96z\" fill=\"inherit\" stroke-width=\"0\"></path>\n",
       "</g>\n",
       "</symbol>\n",
       "<symbol height=\"30\" id=\"circle_close_hover\" viewbox=\"0 0 30 30\" width=\"30\">\n",
       "<g fill-rule=\"evenodd\" transform=\"translate(1 1)\">\n",
       "<circle cx=\"14\" cy=\"14\" fill=\"white\" fill-opacity=\"1\" fill-rule=\"nonzero\" r=\"14\" stroke=\"inherit\" stroke-width=\"1\"></circle>\n",
       "<path class=\"the_plus\" d=\"m18.856 12.96v1.738h-4.004v3.938h-1.848v-3.938h-4.004v-1.738h4.004v-3.96h1.848v3.96z\" fill=\"inherit\" stroke-width=\"0\"></path>\n",
       "</g>\n",
       "</symbol>\n",
       "<symbol height=\"6\" id=\"chevron_down\" viewbox=\"0 0 10 6\" width=\"10\" xmlns=\"http://www.w3.org/2000/svg\">\n",
       "<path d=\"m59 7v2.72727273l5 3.27272727 5-3.27272727v-2.72727273l-5 3.2727273z\" transform=\"translate(-59 -7)\"></path>\n",
       "</symbol>\n",
       "<symbol height=\"16\" id=\"gear\" viewbox=\"0 0 16 16\" width=\"16\" xmlns=\"http://www.w3.org/2000/svg\">\n",
       "<path d=\"m68 9h-1.09c-.15-.91-.5-1.75-1.021-2.471l.761-.77c.39-.39.39-1.029 0-1.42-.391-.39-1.021-.39-1.41 0l-.771.77c-.719-.519-1.469-.869-2.469-1.019v-1.09c0-.55-.45-1-1-1s-1 .45-1 1v1.09c-1 .15-1.75.5-2.47 1.02l-.77-.77c-.389-.39-1.029-.39-1.42 0-.39.391-.39 1.03 0 1.42l.771.77c-.521.72-.871 1.56-1.021 2.47h-1.09c-.55 0-1 .48-1 1.029 0 .551.45.971 1.12.971h.97c.15.91.5 1.75 1.021 2.471l-.771.769c-.39.39-.39 1.029 0 1.42.391.39 1.021.39 1.41 0l.78-.77c.72.52 1.47.87 2.47 1.02v1.09c0 .55.45 1 1 1s1-.45 1-1v-1.09c1-.15 1.75-.5 2.47-1.02l.771.77c.391.39 1.02.39 1.41 0 .39-.391.39-1.03 0-1.42l-.761-.76c.51-.72.87-1.56 1.02-2.48h1.09c.55 0 1-.45 1-1s-.45-1-1-1zm-7 4c-1.66 0-3-1.35-3-3s1.34-3 3-3c1.65 0 3 1.35 3 3s-1.35 3-3 3z\" fill=\"#a79693\" transform=\"translate(-53 -2)\"></path>\n",
       "</symbol>\n",
       "</svg>\n",
       "<div data-react-class=\"BrowseHappier\" data-react-props='{\"gt\":1,\"lt\":11}'></div>\n",
       "<div data-react-class=\"HiPO\" data-react-props=\"{}\"></div>\n",
       "<div id=\"main_container\">\n",
       "<div id=\"site_body\">\n",
       "<div class=\"site_header_area\">\n",
       "<header class=\"site_header\">\n",
       "<div class=\"brand_area\">\n",
       "<div class=\"brand1\">\n",
       "<a class=\"nasa_logo\" href=\"http://www.nasa.gov\" target=\"_blank\" title=\"visit nasa.gov\">NASA</a>\n",
       "</div>\n",
       "<div class=\"brand2\">\n",
       "<a class=\"top_logo\" href=\"https://science.nasa.gov/\" target=\"_blank\" title=\"Explore NASA Science\">NASA Science</a>\n",
       "<a class=\"sub_logo\" href=\"/mars-exploration/#\" title=\"Mars\">Mars Exploration Program</a>\n",
       "</div>\n",
       "<img alt=\"\" class=\"print_only print_logo\" src=\"/assets/logo_nasa_trio_black@2x.png\"/>\n",
       "</div>\n",
       "<a class=\"visuallyhidden focusable\" href=\"#page\">Skip Navigation</a>\n",
       "<div class=\"right_header_container\">\n",
       "<a class=\"menu_button\" href=\"javascript:void(0);\" id=\"menu_button\">\n",
       "<span class=\"menu_icon\">\n",
       "menu\n",
       "</span>\n",
       "</a>\n",
       "<a class=\"modal_close\" id=\"modal_close\">\n",
       "<span class=\"modal_close_icon\"></span>\n",
       "</a>\n",
       "<div class=\"nav_area\">\n",
       "<div id=\"site_nav_container\">\n",
       "<nav class=\"site_nav\" data-react-class=\"Meganav\" data-react-props='{\"nav_items\":[{\"name\":\"The Red Planet\",\"link\":\"/#red_planet\",\"target\":\"_self\",\"sections\":[{\"items\":[{\"name\":\"Dashboard\",\"link\":\"/#red_planet/0\",\"target\":\"_self\",\"id\":9},{\"name\":\"Science Goals\",\"link\":\"/#red_planet/1\",\"target\":\"_self\",\"id\":13},{\"name\":\"The Planet\",\"link\":\"/#red_planet/2\",\"target\":\"_self\",\"id\":14},{\"name\":\"Atmosphere\",\"link\":\"/#red_planet/3\",\"target\":\"_self\",\"id\":16},{\"name\":\"Astrobiology\",\"link\":\"/#red_planet/4\",\"target\":\"_self\",\"id\":17},{\"name\":\"Past, Present, Future, Timeline\",\"link\":\"/#red_planet/5\",\"target\":\"_self\",\"id\":18}]}],\"id\":3,\"meganav_style\":\"\",\"features\":[],\"short_description\":null},{\"name\":\"The Program\",\"link\":\"/#mars_exploration_program\",\"target\":\"_self\",\"sections\":[{\"items\":[{\"name\":\"Mission Statement\",\"link\":\"/#mars_exploration_program/0\",\"target\":\"_self\",\"id\":8},{\"name\":\"About the Program\",\"link\":\"/#mars_exploration_program/1\",\"target\":\"_self\",\"id\":42},{\"name\":\"Organization\",\"link\":\"/#mars_exploration_program/2\",\"target\":\"_self\",\"id\":43},{\"name\":\"Why Mars?\",\"link\":\"/#mars_exploration_program/3\",\"target\":\"_self\",\"id\":51},{\"name\":\"Research Programs\",\"link\":\"/#mars_exploration_program/4\",\"target\":\"_self\",\"id\":44},{\"name\":\"Planetary Resources\",\"link\":\"/#mars_exploration_program/5\",\"target\":\"_self\",\"id\":52},{\"name\":\"Technologies\",\"link\":\"/#mars_exploration_program/6\",\"target\":\"_self\",\"id\":56}]}],\"id\":2,\"meganav_style\":\"\",\"features\":[],\"short_description\":null},{\"name\":\"News \\u0026 Events\",\"link\":\"/#news_and_events\",\"target\":\"_self\",\"sections\":[{\"items\":[{\"name\":\"News\",\"link\":\"/news\",\"target\":\"_self\",\"id\":92},{\"name\":\"Events\",\"link\":\"/events\",\"target\":\"_self\",\"id\":93}]}],\"id\":4,\"meganav_style\":\"\",\"features\":[],\"short_description\":null},{\"name\":\"Multimedia\",\"link\":\"/#multimedia\",\"target\":\"_self\",\"sections\":[{\"items\":[{\"name\":\"Images\",\"link\":\"/multimedia/images/\",\"target\":\"_self\",\"id\":90},{\"name\":\"Videos\",\"link\":\"/multimedia/videos/\",\"target\":\"_self\",\"id\":91}]}],\"id\":5,\"meganav_style\":\"\",\"features\":[],\"short_description\":null},{\"name\":\"Missions\",\"link\":\"/#missions\",\"target\":\"_self\",\"sections\":[{\"items\":[{\"name\":\"Past\",\"link\":\"/mars-exploration/missions/?category=167\",\"target\":\"_self\",\"id\":38},{\"name\":\"Present\",\"link\":\"/mars-exploration/missions/?category=170\",\"target\":\"_self\",\"id\":59},{\"name\":\"Future\",\"link\":\"/mars-exploration/missions/?category=171\",\"target\":\"_self\",\"id\":60},{\"name\":\"International Partners\",\"link\":\"/mars-exploration/partners\",\"target\":\"_self\",\"id\":40}]}],\"id\":6,\"meganav_style\":\"\",\"features\":[],\"short_description\":null},{\"name\":\"More\",\"link\":\"/#more\",\"target\":\"_self\",\"sections\":[],\"id\":7,\"meganav_style\":\"\",\"features\":[],\"short_description\":null}],\"search\":true,\"search_placeholder\":{\"placeholder\":\"\"},\"highlight_current\":{\"highlight\":true,\"current_id\":83,\"parent_ids\":[]},\"subnav_only\":true,\"search_submit\":\"/search/\"}'></nav>\n",
       "</div>\n",
       "</div>\n",
       "</div>\n",
       "</header>\n",
       "</div>\n",
       "<div id=\"sticky_nav_spacer\"></div>\n",
       "<div id=\"page\">\n",
       "<!-- title to go in the page_header -->\n",
       "<div class=\"header_mask\">\n",
       "<section class=\"content_page module\"></section>\n",
       "</div>\n",
       "<div class=\"grid_list_page module content_page\">\n",
       "<div class=\"grid_layout\">\n",
       "<article>\n",
       "<header id=\"page_header\">\n",
       "</header>\n",
       "<div class=\"react_grid_list grid_list_container\" data-react-class=\"GridListPage\" data-react-props='{\"left_column\":false,\"class_name\":\"\",\"default_view\":\"list_view\",\"model\":\"news_items\",\"view_toggle\":false,\"search\":\"true\",\"list_item\":\"News\",\"title\":\"News\",\"categories\":[\"19,165,184,204\"],\"order\":\"publish_date desc,created_at desc\",\"no_items_text\":\"There are no items matching these criteria.\",\"site_title\":\"NASA’s Mars Exploration Program \",\"short_title\":\"Mars\",\"site_share_image\":\"/system/site_config_values/meta_share_images/1_142497main_PIA03154-200.jpg\",\"per_page\":null,\"filters\":\"[ [ \\\"date\\\", [ [ \\\"2019\\\", \\\"2019\\\" ], [ \\\"2018\\\", \\\"2018\\\" ], [ \\\"2017\\\", \\\"2017\\\" ], [ \\\"2016\\\", \\\"2016\\\" ], [ \\\"2015\\\", \\\"2015\\\" ], [ \\\"2014\\\", \\\"2014\\\" ], [ \\\"2013\\\", \\\"2013\\\" ], [ \\\"2012\\\", \\\"2012\\\" ], [ \\\"2011\\\", \\\"2011\\\" ], [ \\\"2010\\\", \\\"2010\\\" ], [ \\\"2009\\\", \\\"2009\\\" ], [ \\\"2008\\\", \\\"2008\\\" ], [ \\\"2007\\\", \\\"2007\\\" ], [ \\\"2006\\\", \\\"2006\\\" ], [ \\\"2005\\\", \\\"2005\\\" ], [ \\\"2004\\\", \\\"2004\\\" ], [ \\\"2003\\\", \\\"2003\\\" ], [ \\\"2002\\\", \\\"2002\\\" ], [ \\\"2001\\\", \\\"2001\\\" ], [ \\\"2000\\\", \\\"2000\\\" ] ], [ \\\"Latest\\\", \\\"\\\" ], false ], [ \\\"categories\\\", [ [ \\\"Feature Stories\\\", 165 ], [ \\\"Press Releases\\\", 19 ], [ \\\"Spotlights\\\", 184 ], [ \\\"Status Reports\\\", 204 ] ], [ \\\"All Categories\\\", \\\"\\\" ], false ] ]\",\"conditions\":null,\"scope_in_title\":true,\"options\":{\"blank_scope\":\"Latest\"},\"results_in_title\":false}'></div>\n",
       "</article>\n",
       "</div>\n",
       "</div>\n",
       "<section class=\"module suggested_features\">\n",
       "<div class=\"grid_layout\">\n",
       "<header>\n",
       "<h2 class=\"module_title\">You Might Also Like</h2>\n",
       "</header>\n",
       "<section>\n",
       "<script>\n",
       "  $(document).ready(function(){\n",
       "    $(\".features\").slick({\n",
       "      dots: false,\n",
       "      infinite: true,\n",
       "      speed: 300,\n",
       "      slide: '.features .slide',\n",
       "      slidesToShow: 3,\n",
       "      slidesToScroll: 3,\n",
       "      lazyLoad: 'ondemand',\n",
       "      centerMode: false,\n",
       "      arrows: true,\n",
       "      appendArrows: '.features .slick-nav',\n",
       "      appendDots: \".features .slick-nav\",\n",
       "      responsive: [{\"breakpoint\":953,\"settings\":{\"slidesToShow\":2,\"slidesToScroll\":2,\"centerMode\":false}},{\"breakpoint\":480,\"settings\":{\"slidesToShow\":1,\"slidesToScroll\":1,\"centerMode\":true,\"arrows\":false,\"centerPadding\":\"25px\"}}]\n",
       "    });\n",
       "  });\n",
       "</script>\n",
       "<div class=\"features\">\n",
       "<div class=\"slide\">\n",
       "<div class=\"image_and_description_container\">\n",
       "<a href=\"/news/8508/nasa-invites-students-to-name-mars-2020-rover/\">\n",
       "<div class=\"rollover_description\">\n",
       "<div class=\"rollover_description_inner\">\n",
       "Through Nov. 1, K-12 students in the U.S. are encouraged to enter an essay contest to name NASA's next Mars rover.\n",
       "</div>\n",
       "<div class=\"overlay_arrow\">\n",
       "<img alt=\"More\" src=\"/assets/overlay-arrow.png\"/>\n",
       "</div>\n",
       "</div>\n",
       "<img alt=\"NASA Invites Students to Name Mars 2020 Rover\" class=\"img-lazy\" data-lazy=\"/system/news_items/list_view_images/8508_Name_A_unannotated_MAIN-th.jpg\" src=\"/assets/loading_320x240.png\"/>\n",
       "</a>\n",
       "</div>\n",
       "<div class=\"content_title\">\n",
       "<a href=\"/news/8508/nasa-invites-students-to-name-mars-2020-rover/\">\n",
       "NASA Invites Students to Name Mars 2020 Rover\n",
       "</a>\n",
       "</div>\n",
       "</div>\n",
       "<div class=\"slide\">\n",
       "<div class=\"image_and_description_container\">\n",
       "<a href=\"/news/8442/nasas-curiosity-mars-rover-finds-a-clay-cache/\">\n",
       "<div class=\"rollover_description\">\n",
       "<div class=\"rollover_description_inner\">\n",
       "The rover recently drilled two samples, and both showed the highest levels of clay ever found during the mission.\n",
       "</div>\n",
       "<div class=\"overlay_arrow\">\n",
       "<img alt=\"More\" src=\"/assets/overlay-arrow.png\"/>\n",
       "</div>\n",
       "</div>\n",
       "<img alt=\"NASA's Curiosity Mars Rover Finds a Clay Cache\" class=\"img-lazy\" data-lazy=\"/system/news_items/list_view_images/8442_PIA23240_32x24.jpg\" src=\"/assets/loading_320x240.png\"/>\n",
       "</a>\n",
       "</div>\n",
       "<div class=\"content_title\">\n",
       "<a href=\"/news/8442/nasas-curiosity-mars-rover-finds-a-clay-cache/\">\n",
       "NASA's Curiosity Mars Rover Finds a Clay Cache\n",
       "</a>\n",
       "</div>\n",
       "</div>\n",
       "<div class=\"slide\">\n",
       "<div class=\"image_and_description_container\">\n",
       "<a href=\"/news/8436/why-this-martian-full-moon-looks-like-candy/\">\n",
       "<div class=\"rollover_description\">\n",
       "<div class=\"rollover_description_inner\">\n",
       "For the first time, NASA's Mars Odyssey orbiter has caught the Martian moon Phobos during a full moon phase. Each color in this new image represents a temperature range detected by Odyssey's infrared camera.\n",
       "</div>\n",
       "<div class=\"overlay_arrow\">\n",
       "<img alt=\"More\" src=\"/assets/overlay-arrow.png\"/>\n",
       "</div>\n",
       "</div>\n",
       "<img alt=\"Why This Martian Full Moon Looks Like Candy\" class=\"img-lazy\" data-lazy=\"/system/news_items/list_view_images/8436_PIA23205_annotated-32x24.jpg\" src=\"/assets/loading_320x240.png\"/>\n",
       "</a>\n",
       "</div>\n",
       "<div class=\"content_title\">\n",
       "<a href=\"/news/8436/why-this-martian-full-moon-looks-like-candy/\">\n",
       "Why This Martian Full Moon Looks Like Candy\n",
       "</a>\n",
       "</div>\n",
       "</div>\n",
       "<div class=\"slide\">\n",
       "<div class=\"image_and_description_container\">\n",
       "<a href=\"/news/8426/nasa-garners-7-webby-award-nominations/\">\n",
       "<div class=\"rollover_description\">\n",
       "<div class=\"rollover_description_inner\">\n",
       "Nominees include four JPL projects: the solar system and climate websites, InSight social media, and a 360-degree Earth video. Public voting closes April 18, 2019.\n",
       "</div>\n",
       "<div class=\"overlay_arrow\">\n",
       "<img alt=\"More\" src=\"/assets/overlay-arrow.png\"/>\n",
       "</div>\n",
       "</div>\n",
       "<img alt=\"NASA Garners 7 Webby Award Nominations\" class=\"img-lazy\" data-lazy=\"/system/news_items/list_view_images/8426_Webby2019-320x240.jpg\" src=\"/assets/loading_320x240.png\"/>\n",
       "</a>\n",
       "</div>\n",
       "<div class=\"content_title\">\n",
       "<a href=\"/news/8426/nasa-garners-7-webby-award-nominations/\">\n",
       "NASA Garners 7 Webby Award Nominations\n",
       "</a>\n",
       "</div>\n",
       "</div>\n",
       "<div class=\"slide\">\n",
       "<div class=\"image_and_description_container\">\n",
       "<a href=\"/news/8413/nasas-opportunity-rover-mission-on-mars-comes-to-end/\">\n",
       "<div class=\"rollover_description\">\n",
       "<div class=\"rollover_description_inner\">\n",
       "NASA's Opportunity Mars rover mission is complete after 15 years on Mars. Opportunity's record-breaking exploration laid the groundwork for future missions to the Red Planet.\n",
       "</div>\n",
       "<div class=\"overlay_arrow\">\n",
       "<img alt=\"More\" src=\"/assets/overlay-arrow.png\"/>\n",
       "</div>\n",
       "</div>\n",
       "<img alt=\"NASA's Opportunity Rover Mission on Mars Comes to End\" class=\"img-lazy\" data-lazy=\"/system/news_items/list_view_images/8413_PIA06739-320x240.jpg\" src=\"/assets/loading_320x240.png\"/>\n",
       "</a>\n",
       "</div>\n",
       "<div class=\"content_title\">\n",
       "<a href=\"/news/8413/nasas-opportunity-rover-mission-on-mars-comes-to-end/\">\n",
       "NASA's Opportunity Rover Mission on Mars Comes to End\n",
       "</a>\n",
       "</div>\n",
       "</div>\n",
       "<div class=\"slide\">\n",
       "<div class=\"image_and_description_container\">\n",
       "<a href=\"/news/8402/nasas-insight-places-first-instrument-on-mars/\">\n",
       "<div class=\"rollover_description\">\n",
       "<div class=\"rollover_description_inner\">\n",
       "In deploying its first instrument onto the surface of Mars, the lander completes a major mission milestone.\n",
       "</div>\n",
       "<div class=\"overlay_arrow\">\n",
       "<img alt=\"More\" src=\"/assets/overlay-arrow.png\"/>\n",
       "</div>\n",
       "</div>\n",
       "<img alt=\"NASA's InSight Places First Instrument on Mars\" class=\"img-lazy\" data-lazy=\"/system/news_items/list_view_images/8402_PIA22977_SEIS_deploy_IDC_calibrated-th.gif\" src=\"/assets/loading_320x240.png\"/>\n",
       "</a>\n",
       "</div>\n",
       "<div class=\"content_title\">\n",
       "<a href=\"/news/8402/nasas-insight-places-first-instrument-on-mars/\">\n",
       "NASA's InSight Places First Instrument on Mars\n",
       "</a>\n",
       "</div>\n",
       "</div>\n",
       "<div class=\"grid_layout\">\n",
       "<div class=\"slick-nav_container\">\n",
       "<div class=\"slick-nav\"></div>\n",
       "</div>\n",
       "</div>\n",
       "</div>\n",
       "</section>\n",
       "</div>\n",
       "</section>\n",
       "</div>\n",
       "<footer id=\"site_footer\">\n",
       "<div class=\"grid_layout\">\n",
       "<section class=\"upper_footer\">\n",
       "<div class=\"share\">\n",
       "<h2>Follow the Journey</h2>\n",
       "<div class=\"social_icons\">\n",
       "<!-- AddThis Button BEGIN -->\n",
       "<div class=\"addthis_toolbox addthis_default_style addthis_32x32_style\"><a addthis:userid=\"MarsCuriosity\" class=\"addthis_button_twitter_follow icon\">\n",
       "<img alt=\"twitter\" src=\"/assets/twitter_icon@2x.png\"/>\n",
       "</a><a addthis:userid=\"MarsCuriosity\" class=\"addthis_button_facebook_follow icon\">\n",
       "<img alt=\"facebook\" src=\"/assets/facebook_icon@2x.png\"/>\n",
       "</a><a addthis:userid=\"nasa\" class=\"addthis_button_instagram_follow icon\">\n",
       "<img alt=\"instagram\" src=\"/assets/instagram_icon@2x.png\"/>\n",
       "</a><a addthis:url=\"https://mars.nasa.gov/rss/api/?feed=news&amp;category=all&amp;feedtype=rss\" class=\"addthis_button_rss_follow icon\">\n",
       "<img alt=\"rss\" src=\"/assets/rss_icon@2x.png\"/>\n",
       "</a></div>\n",
       "</div>\n",
       "<script src=\"//s7.addthis.com/js/300/addthis_widget.js#pubid=ra-5a690e4c1320e328\"></script>\n",
       "</div>\n",
       "<div class=\"gradient_line\"></div>\n",
       "</section>\n",
       "<section class=\"sitemap\">\n",
       "<div class=\"sitemap_directory\" id=\"sitemap_directory\">\n",
       "<div class=\"sitemap_block\">\n",
       "<div class=\"footer_sitemap_item\">\n",
       "<h3 class=\"sitemap_title\">\n",
       "<a href=\"/#red_planet\">The Red Planet</a>\n",
       "</h3>\n",
       "<ul><li>\n",
       "<div class=\"global_subnav_container\">\n",
       "<ul class=\"subnav\">\n",
       "<li>\n",
       "<a href=\"/#red_planet/0\" target=\"_self\">Dashboard</a>\n",
       "</li>\n",
       "<li>\n",
       "<a href=\"/#red_planet/1\" target=\"_self\">Science Goals</a>\n",
       "</li>\n",
       "<li>\n",
       "<a href=\"/#red_planet/2\" target=\"_self\">The Planet</a>\n",
       "</li>\n",
       "<li>\n",
       "<a href=\"/#red_planet/3\" target=\"_self\">Atmosphere</a>\n",
       "</li>\n",
       "<li>\n",
       "<a href=\"/#red_planet/4\" target=\"_self\">Astrobiology</a>\n",
       "</li>\n",
       "<li>\n",
       "<a href=\"/#red_planet/5\" target=\"_self\">Past, Present, Future, Timeline</a>\n",
       "</li>\n",
       "</ul>\n",
       "</div>\n",
       "</li></ul>\n",
       "</div>\n",
       "</div>\n",
       "<div class=\"sitemap_block\">\n",
       "<div class=\"footer_sitemap_item\">\n",
       "<h3 class=\"sitemap_title\">\n",
       "<a href=\"/#mars_exploration_program\">The Program</a>\n",
       "</h3>\n",
       "<ul><li>\n",
       "<div class=\"global_subnav_container\">\n",
       "<ul class=\"subnav\">\n",
       "<li>\n",
       "<a href=\"/#mars_exploration_program/0\" target=\"_self\">Mission Statement</a>\n",
       "</li>\n",
       "<li>\n",
       "<a href=\"/#mars_exploration_program/1\" target=\"_self\">About the Program</a>\n",
       "</li>\n",
       "<li>\n",
       "<a href=\"/#mars_exploration_program/2\" target=\"_self\">Organization</a>\n",
       "</li>\n",
       "<li>\n",
       "<a href=\"/#mars_exploration_program/3\" target=\"_self\">Why Mars?</a>\n",
       "</li>\n",
       "<li>\n",
       "<a href=\"/#mars_exploration_program/4\" target=\"_self\">Research Programs</a>\n",
       "</li>\n",
       "<li>\n",
       "<a href=\"/#mars_exploration_program/5\" target=\"_self\">Planetary Resources</a>\n",
       "</li>\n",
       "<li>\n",
       "<a href=\"/#mars_exploration_program/6\" target=\"_self\">Technologies</a>\n",
       "</li>\n",
       "</ul>\n",
       "</div>\n",
       "</li></ul>\n",
       "</div>\n",
       "</div>\n",
       "<div class=\"sitemap_block\">\n",
       "<div class=\"footer_sitemap_item\">\n",
       "<h3 class=\"sitemap_title\">\n",
       "<a href=\"/#news_and_events\">News &amp; Events</a>\n",
       "</h3>\n",
       "<ul><li>\n",
       "<div class=\"global_subnav_container\">\n",
       "<ul class=\"subnav\">\n",
       "<li class=\"current\">\n",
       "<a href=\"/news\" target=\"_self\">News</a>\n",
       "</li>\n",
       "<li>\n",
       "<a href=\"/events\" target=\"_self\">Events</a>\n",
       "</li>\n",
       "</ul>\n",
       "</div>\n",
       "</li></ul>\n",
       "</div>\n",
       "</div>\n",
       "<div class=\"sitemap_block\">\n",
       "<div class=\"footer_sitemap_item\">\n",
       "<h3 class=\"sitemap_title\">\n",
       "<a href=\"/#multimedia\">Multimedia</a>\n",
       "</h3>\n",
       "<ul><li>\n",
       "<div class=\"global_subnav_container\">\n",
       "<ul class=\"subnav\">\n",
       "<li>\n",
       "<a href=\"/multimedia/images/\" target=\"_self\">Images</a>\n",
       "</li>\n",
       "<li>\n",
       "<a href=\"/multimedia/videos/\" target=\"_self\">Videos</a>\n",
       "</li>\n",
       "</ul>\n",
       "</div>\n",
       "</li></ul>\n",
       "</div>\n",
       "</div>\n",
       "<div class=\"sitemap_block\">\n",
       "<div class=\"footer_sitemap_item\">\n",
       "<h3 class=\"sitemap_title\">\n",
       "<a href=\"/#missions\">Missions</a>\n",
       "</h3>\n",
       "<ul><li>\n",
       "<div class=\"global_subnav_container\">\n",
       "<ul class=\"subnav\">\n",
       "<li>\n",
       "<a href=\"/mars-exploration/missions/?category=167\" target=\"_self\">Past</a>\n",
       "</li>\n",
       "<li>\n",
       "<a href=\"/mars-exploration/missions/?category=170\" target=\"_self\">Present</a>\n",
       "</li>\n",
       "<li>\n",
       "<a href=\"/mars-exploration/missions/?category=171\" target=\"_self\">Future</a>\n",
       "</li>\n",
       "<li>\n",
       "<a href=\"/mars-exploration/partners\" target=\"_self\">International Partners</a>\n",
       "</li>\n",
       "</ul>\n",
       "</div>\n",
       "</li></ul>\n",
       "</div>\n",
       "</div>\n",
       "<div class=\"sitemap_block\">\n",
       "<div class=\"footer_sitemap_item\">\n",
       "<h3 class=\"sitemap_title\">\n",
       "<a href=\"/#more\">More</a>\n",
       "</h3>\n",
       "<ul><li>\n",
       "<div class=\"global_subnav_container\">\n",
       "<ul class=\"subnav\">\n",
       "</ul>\n",
       "</div>\n",
       "</li></ul>\n",
       "</div>\n",
       "</div>\n",
       "</div>\n",
       "<div class=\"gradient_line\"></div>\n",
       "</section>\n",
       "<section class=\"lower_footer\">\n",
       "<div class=\"nav_container\">\n",
       "<nav>\n",
       "<ul>\n",
       "<li>\n",
       "<a href=\"http://science.nasa.gov/\" target=\"_blank\">NASA Science Mission Directorate</a>\n",
       "</li>\n",
       "<li>\n",
       "<a href=\"https://www.jpl.nasa.gov/copyrights.php\" target=\"_blank\">Privacy</a>\n",
       "</li>\n",
       "<li>\n",
       "<a href=\"http://www.jpl.nasa.gov/imagepolicy/\" target=\"_blank\">Image Policy</a>\n",
       "</li>\n",
       "<li>\n",
       "<a href=\"https://mars.nasa.gov/feedback/\" target=\"_self\">Feedback</a>\n",
       "</li>\n",
       "<li>\n",
       "<a href=\"http://mars.nasa.gov/legacy\" target=\"_blank\">Legacy Mars Site</a>\n",
       "</li>\n",
       "</ul>\n",
       "</nav>\n",
       "</div>\n",
       "<div class=\"credits\">\n",
       "<div class=\"footer_brands_top\">\n",
       "<p>Managed by the Mars Exploration Program and the Jet Propulsion Laboratory for NASA’s Science Mission Directorate</p>\n",
       "</div>\n",
       "<!-- .footer_brands -->\n",
       "<!-- %a.jpl{href: \"\", target: \"_blank\"}Institution -->\n",
       "<!-- -->\n",
       "<!-- %a.caltech{href: \"\", target: \"_blank\"}Institution -->\n",
       "<!-- .staff -->\n",
       "<!-- %p -->\n",
       "<!-- - get_staff_for_category(get_field_from_admin_config(:web_staff_category_id)) -->\n",
       "<!-- - @staff.each_with_index do |staff, idx| -->\n",
       "<!-- - unless staff.is_in_footer == 0 -->\n",
       "<!-- = staff.title + \": \" -->\n",
       "<!-- - if staff.contact_link =~ /@/ -->\n",
       "<!-- = mail_to staff.contact_link, staff.name, :subject => \"[#{@site_title}]\" -->\n",
       "<!-- - elsif staff.contact_link.present? -->\n",
       "<!-- = link_to staff.name, staff.contact_link -->\n",
       "<!-- - else -->\n",
       "<!-- = staff.name -->\n",
       "<!-- - unless (idx + 1 == @staff.size) -->\n",
       "<!-- %br -->\n",
       "</div>\n",
       "</section>\n",
       "</div>\n",
       "</footer>\n",
       "</div>\n",
       "</div>\n",
       "<script id=\"_fed_an_ua_tag\" src=\"https://dap.digitalgov.gov/Universal-Federated-Analytics-Min.js?agency=NASA&amp;subagency=JPL-Mars-MEPJPL&amp;pua=UA-9453474-9,UA-118212757-11&amp;dclink=true&amp;sp=searchbox&amp;exts=tif,tiff,wav\" type=\"text/javascript\"></script>\n",
       "</body>\n",
       "</html>"
      ]
     },
     "execution_count": 5,
     "metadata": {},
     "output_type": "execute_result"
    }
   ],
   "source": [
    "nasa_soup"
   ]
  },
  {
   "cell_type": "code",
   "execution_count": 6,
   "metadata": {},
   "outputs": [],
   "source": [
    "soup_div = nasa_soup.find(class_=\"slide\")\n",
    "soup_news = soup_div.find_all('a')\n",
    "news_title = soup_news[1].get_text().strip()"
   ]
  },
  {
   "cell_type": "code",
   "execution_count": 7,
   "metadata": {},
   "outputs": [
    {
     "data": {
      "text/plain": [
       "'NASA Invites Students to Name Mars 2020 Rover'"
      ]
     },
     "execution_count": 7,
     "metadata": {},
     "output_type": "execute_result"
    }
   ],
   "source": [
    "news_title"
   ]
  },
  {
   "cell_type": "code",
   "execution_count": 8,
   "metadata": {},
   "outputs": [],
   "source": [
    "soup2 = soup_div.find_all('a', href=True)\n",
    "soup2_url = soup2[0]['href'] \n",
    "paragraph_url = base_url + soup2_url\n",
    "response3 = req.get(paragraph_url)"
   ]
  },
  {
   "cell_type": "code",
   "execution_count": 9,
   "metadata": {},
   "outputs": [],
   "source": [
    "para_soup = bs(response3.text, \"html.parser\")\n",
    "paragraphsclass = para_soup.find(class_='wysiwyg_content') \n",
    "paragraphs = paragraphsclass.find_all('p')    "
   ]
  },
  {
   "cell_type": "code",
   "execution_count": 10,
   "metadata": {
    "scrolled": true
   },
   "outputs": [
    {
     "data": {
      "text/plain": [
       "[<p>Red rover, red rover, send a name for <a href=\"https://www.nasa.gov/mars2020\" target=\"_blank\">Mars 2020</a> right over! NASA is recruiting help from students nationwide to find a name for its next Mars rover mission.</p>,\n",
       " <p>Starting Tuesday, Aug. 27, K-12 students in U.S. public, private and home schools can enter the <a href=\"https://mars.nasa.gov/mars2020/participate/name-the-rover/\">Mars 2020 Name the Rover essay contest</a>. One grand prize winner will name the rover and be invited to see the spacecraft launch in July 2020 from Cape Canaveral Air Force Station in Florida.</p>,\n",
       " <p>The Name the Rover contest is part of NASA's efforts to engage students in the STEM enterprise behind Mars exploration and inspire interest in science, technology, engineering and mathematics.</p>,\n",
       " <p>\"This naming contest is a wonderful opportunity for our nation's youth to get involved with NASA's Moon to Mars missions,\" said NASA Administrator Jim Bridenstine. \"It is an exciting way to engage with a rover that will likely serve as the first leg of a Mars Sample return campaign, collecting and caching core samples from the Martian surface for scientists here on Earth to study for the first time.\"</p>,\n",
       " <p>The Mars 2020 rover is a 2,300-pound (1,040-kilogram) robotic scientist that will search for signs of past microbial life, characterize the planet's climate and geology, collect samples for future return to Earth, and pave the way for human exploration of the Red Planet.</p>,\n",
       " <p>\"Our Mars 2020 rover has fully taken shape over the past several months, as the project team installed various components onto the chassis: the computer brain and electronics; wheels and mobility system; robotic arm; remote sensing mast; the seven science instruments; and finally, the sample caching system,\" said George Tahu, Mars 2020 program executive. \"All that's missing is a great name!\"</p>,\n",
       " <p>To enter the contest, students must submit by Nov. 1 their proposed rover name and a short essay, no more than 150 words, explaining why their proposed name should be chosen. The essays will be divided into three groups, by grade level — K-4, 5-8, and 9-12 — and judged on the appropriateness, significance and originality of their proposed name, and the originality and quality of their essay, and/or finalist interview presentation.</p>,\n",
       " <p>Fifty-two semifinalists will be selected per group, each representing their respective state or U.S. territory. Three finalists then will be selected from each group to advance to the final round.</p>,\n",
       " <p>As part of the final selection process, the public will have an opportunity to vote online on the nine finalists in January 2020. NASA plans to announce the selected name on Feb. 18, 2020 — exactly one year before the rover will land on the surface of Mars.</p>,\n",
       " <p>For complete contest and prize details, visit:</p>,\n",
       " <p style=\"text-align:center\"><a href=\"https://mars.nasa.gov/mars2020/participate/name-the-rover/\"><b>mars.nasa.gov/mars2020/participate/name-the-rover/</b></a></p>,\n",
       " <p>The naming contest partnership is part of a Space Act Agreement between NASA, Battelle of Columbus, Ohio, and Future Engineers of Burbank, California, in educational and public outreach efforts.</p>,\n",
       " <p><b>Register to be a Judge</b></p>,\n",
       " <p>NASA is seeking volunteers to help judge the thousands of contest entries anticipated to pour in from around the country. U.S. residents over 18 years old who are interested in offering approximately five hours of their time to review submissions should register to be a judge at:</p>,\n",
       " <p style=\"text-align:center\"><a href=\"https://www.futureengineers.org/registration/judge/nametherover\" target=\"_blank\"><b>futureengineers.org/registration/judge/nametherover</b></a></p>,\n",
       " <p><b>Rover Update</b></p>,\n",
       " <p>With all major elements onboard and initial functional checks complete, Mars 2020's Assembly, Test, and Launch Operations team is preparing the rover and its sky crane descent stage for the next big test: simulating the vibration dynamics of launch and the thermal environment the rover will experience on the surface of Mars.</p>,\n",
       " <p>NASA's Jet Propulsion Laboratory in Pasadena, California, manages rover development for the agency. The Launch Services Program at NASA's Kennedy Space Center in Florida is responsible for launch management.</p>,\n",
       " <p>For more about NASA's Moon to Mars plans, visit:</p>,\n",
       " <p style=\"text-align:center\"><a href=\"https://www.nasa.gov/topics/moon-to-mars\" target=\"_blank\"><b>nasa.gov/topics/moon-to-mars</b></a></p>,\n",
       " <p><b>News Media Contacts</b></p>,\n",
       " <p>Grey Hautaluoma / Alana Johnson<br/>\n",
       " NASA Headquarters, Washington<br/>\n",
       " 202-358-0668 / 202-358-1501<br/>\n",
       " <a href=\"mailto:grey.hautaluoma-1@nasa.gov\">grey.hautaluoma-1@nasa.gov</a> / <a href=\"mailto:alana.r.johnson@nasa.gov\">alana.r.johnson@nasa.gov</a></p>,\n",
       " <p>DC Agle / Jia-Rui Cook<br/>\n",
       " Jet Propulsion Laboratory, Pasadena, Calif.<br/>\n",
       " 818-393-9011 / 818-354-0724<br/>\n",
       " <a href=\"mailto:david.c.agle@jpl.nasa.gov\">david.c.agle@jpl.nasa.gov</a> / <a href=\"mailto:jccook@jpl.nasa.gov\">jccook@jpl.nasa.gov</a></p>]"
      ]
     },
     "execution_count": 10,
     "metadata": {},
     "output_type": "execute_result"
    }
   ],
   "source": [
    "paragraphs"
   ]
  },
  {
   "cell_type": "code",
   "execution_count": 11,
   "metadata": {},
   "outputs": [],
   "source": [
    "for paragraph1 in paragraphs:\n",
    "    clean_paragraph = paragraph1.get_text().strip()\n",
    "    paragraph.append(clean_paragraph)\n",
    "    "
   ]
  },
  {
   "cell_type": "code",
   "execution_count": 12,
   "metadata": {},
   "outputs": [
    {
     "data": {
      "text/plain": [
       "['Red rover, red rover, send a name for Mars 2020 right over! NASA is recruiting help from students nationwide to find a name for its next Mars rover mission.',\n",
       " 'Starting Tuesday, Aug. 27, K-12 students in U.S. public, private and home schools can enter the Mars 2020 Name the Rover essay contest. One grand prize winner will name the rover and be invited to see the spacecraft launch in July 2020 from Cape Canaveral Air Force Station in Florida.',\n",
       " \"The Name the Rover contest is part of NASA's efforts to engage students in the STEM enterprise behind Mars exploration and inspire interest in science, technology, engineering and mathematics.\",\n",
       " '\"This naming contest is a wonderful opportunity for our nation\\'s youth to get involved with NASA\\'s Moon to Mars missions,\" said NASA Administrator Jim Bridenstine. \"It is an exciting way to engage with a rover that will likely serve as the first leg of a Mars Sample return campaign, collecting and caching core samples from the Martian surface for scientists here on Earth to study for the first time.\"',\n",
       " \"The Mars 2020 rover is a 2,300-pound (1,040-kilogram) robotic scientist that will search for signs of past microbial life, characterize the planet's climate and geology, collect samples for future return to Earth, and pave the way for human exploration of the Red Planet.\",\n",
       " '\"Our Mars 2020 rover has fully taken shape over the past several months, as the project team installed various components onto the chassis: the computer brain and electronics; wheels and mobility system; robotic arm; remote sensing mast; the seven science instruments; and finally, the sample caching system,\" said George Tahu, Mars 2020 program executive. \"All that\\'s missing is a great name!\"',\n",
       " 'To enter the contest, students must submit by Nov. 1 their proposed rover name and a short essay, no more than 150 words, explaining why their proposed name should be chosen. The essays will be divided into three groups, by grade level — K-4, 5-8, and 9-12 — and judged on the appropriateness, significance and originality of their proposed name, and the originality and quality of their essay, and/or finalist interview presentation.',\n",
       " 'Fifty-two semifinalists will be selected per group, each representing their respective state or U.S. territory. Three finalists then will be selected from each group to advance to the final round.',\n",
       " 'As part of the final selection process, the public will have an opportunity to vote online on the nine finalists in January 2020. NASA plans to announce the selected name on Feb. 18, 2020 — exactly one year before the rover will land on the surface of Mars.',\n",
       " 'For complete contest and prize details, visit:',\n",
       " 'mars.nasa.gov/mars2020/participate/name-the-rover/',\n",
       " 'The naming contest partnership is part of a Space Act Agreement between NASA, Battelle of Columbus, Ohio, and Future Engineers of Burbank, California, in educational and public outreach efforts.',\n",
       " 'Register to be a Judge',\n",
       " 'NASA is seeking volunteers to help judge the thousands of contest entries anticipated to pour in from around the country. U.S. residents over 18 years old who are interested in offering approximately five hours of their time to review submissions should register to be a judge at:',\n",
       " 'futureengineers.org/registration/judge/nametherover',\n",
       " 'Rover Update',\n",
       " \"With all major elements onboard and initial functional checks complete, Mars 2020's Assembly, Test, and Launch Operations team is preparing the rover and its sky crane descent stage for the next big test: simulating the vibration dynamics of launch and the thermal environment the rover will experience on the surface of Mars.\",\n",
       " \"NASA's Jet Propulsion Laboratory in Pasadena, California, manages rover development for the agency. The Launch Services Program at NASA's Kennedy Space Center in Florida is responsible for launch management.\",\n",
       " \"For more about NASA's Moon to Mars plans, visit:\",\n",
       " 'nasa.gov/topics/moon-to-mars',\n",
       " 'News Media Contacts',\n",
       " 'Grey Hautaluoma / Alana Johnson\\nNASA Headquarters, Washington\\n202-358-0668 / 202-358-1501\\ngrey.hautaluoma-1@nasa.gov / alana.r.johnson@nasa.gov',\n",
       " 'DC Agle / Jia-Rui Cook\\nJet Propulsion Laboratory, Pasadena, Calif.\\n818-393-9011 / 818-354-0724\\ndavid.c.agle@jpl.nasa.gov / jccook@jpl.nasa.gov']"
      ]
     },
     "execution_count": 12,
     "metadata": {},
     "output_type": "execute_result"
    }
   ],
   "source": [
    "\n",
    "paragraph"
   ]
  },
  {
   "cell_type": "code",
   "execution_count": 13,
   "metadata": {},
   "outputs": [],
   "source": [
    "news_data[\"news_title\"] = news_title \n",
    "news_data[\"paragraph_text_1\"] = paragraph[0] \n",
    "news_data[\"paragraph_text_2\"] = paragraph[1]"
   ]
  },
  {
   "cell_type": "code",
   "execution_count": 14,
   "metadata": {},
   "outputs": [
    {
     "data": {
      "text/plain": [
       "{'news_title': 'NASA Invites Students to Name Mars 2020 Rover',\n",
       " 'paragraph_text_1': 'Red rover, red rover, send a name for Mars 2020 right over! NASA is recruiting help from students nationwide to find a name for its next Mars rover mission.',\n",
       " 'paragraph_text_2': 'Starting Tuesday, Aug. 27, K-12 students in U.S. public, private and home schools can enter the Mars 2020 Name the Rover essay contest. One grand prize winner will name the rover and be invited to see the spacecraft launch in July 2020 from Cape Canaveral Air Force Station in Florida.'}"
      ]
     },
     "execution_count": 14,
     "metadata": {},
     "output_type": "execute_result"
    }
   ],
   "source": [
    "news_data  "
   ]
  },
  {
   "cell_type": "code",
   "execution_count": null,
   "metadata": {},
   "outputs": [],
   "source": []
  },
  {
   "cell_type": "code",
   "execution_count": null,
   "metadata": {},
   "outputs": [],
   "source": []
  },
  {
   "cell_type": "code",
   "execution_count": null,
   "metadata": {},
   "outputs": [],
   "source": []
  },
  {
   "cell_type": "code",
   "execution_count": 15,
   "metadata": {},
   "outputs": [],
   "source": [
    "browser = Browser('chrome', headless=False)\n",
    "jpl_fullsize_url = 'https://photojournal.jpl.nasa.gov/jpeg/'\n",
    "jpl_url = \"https://www.jpl.nasa.gov/spaceimages/?search=&category=Mars\""
   ]
  },
  {
   "cell_type": "code",
   "execution_count": 16,
   "metadata": {},
   "outputs": [],
   "source": [
    "browser.visit(jpl_url)\n",
    "jpl_html = browser.html\n",
    "jpl_soup = bs(jpl_html, 'html.parser')"
   ]
  },
  {
   "cell_type": "code",
   "execution_count": 17,
   "metadata": {},
   "outputs": [],
   "source": [
    "image_list = []\n",
    "for image in jpl_soup.find_all('div',class_=\"img\"):\n",
    "    image_list.append(image.find('img').get('src'))"
   ]
  },
  {
   "cell_type": "code",
   "execution_count": 20,
   "metadata": {},
   "outputs": [],
   "source": [
    "feature_image = image_list[0]\n",
    "list_1 = feature_image.split('-')\n",
    "list_2 = list_1[0].split('/')\n",
    "featured_image_url = jpl_fullsize_url + list_2[-1] + '.jpg'"
   ]
  },
  {
   "cell_type": "code",
   "execution_count": null,
   "metadata": {},
   "outputs": [],
   "source": []
  },
  {
   "cell_type": "code",
   "execution_count": 21,
   "metadata": {},
   "outputs": [
    {
     "data": {
      "text/plain": [
       "'https://photojournal.jpl.nasa.gov/jpeg/PIA23523.jpg'"
      ]
     },
     "execution_count": 21,
     "metadata": {},
     "output_type": "execute_result"
    }
   ],
   "source": [
    "featured_image_url                                                           "
   ]
  },
  {
   "cell_type": "code",
   "execution_count": 22,
   "metadata": {},
   "outputs": [],
   "source": [
    "browser.quit()   "
   ]
  },
  {
   "cell_type": "code",
   "execution_count": null,
   "metadata": {},
   "outputs": [],
   "source": []
  },
  {
   "cell_type": "code",
   "execution_count": 23,
   "metadata": {},
   "outputs": [],
   "source": [
    "browser = Browser('chrome', headless=False) \n",
    "tweet_url = 'https://twitter.com/marswxreport?lang=en'\n",
    "browser.visit(tweet_url) "
   ]
  },
  {
   "cell_type": "code",
   "execution_count": 24,
   "metadata": {},
   "outputs": [],
   "source": [
    "tweet_html = browser.html\n",
    "tweet_soup = bs(tweet_html, 'html.parser')"
   ]
  },
  {
   "cell_type": "code",
   "execution_count": 25,
   "metadata": {},
   "outputs": [],
   "source": [
    "weather = []\n",
    "for weather_info in tweet_soup.find_all('p',class_=\"TweetTextSize TweetTextSize--normal js-tweet-text tweet-text\"):\n",
    "    weather.append(weather_info.text.strip())"
   ]
  },
  {
   "cell_type": "code",
   "execution_count": 36,
   "metadata": {},
   "outputs": [
    {
     "data": {
      "text/plain": [
       "['InSight sol 327 (2019-10-28) low -102.6ºC (-152.7ºF) high -25.3ºC (-13.5ºF)\\nwinds from the SSE at 5.6 m/s (12.5 mph) gusting to 19.6 m/s (43.8 mph)\\npressure at 7.00 hPapic.twitter.com/B3xpG54HEx',\n",
       " 'InSight sol 326 (2019-10-27) low -101.4ºC (-150.5ºF) high -23.7ºC (-10.7ºF)\\nwinds from the SSE at 5.2 m/s (11.5 mph) gusting to 18.2 m/s (40.8 mph)\\npressure at 7.00 hPapic.twitter.com/zSxE0oiy1D',\n",
       " 'You gotta keep ‘em separated \\n\\nEngineers and technicians working on the #Mars2020 spacecraft look on as a crane lifts the rocket-powered descent stage away from the rover after a test: https://go.nasa.gov/2IpH4I3\\xa0pic.twitter.com/tBLCWS0b5q',\n",
       " 'InSight sol 325 (2019-10-26) low -102.0ºC (-151.7ºF) high -24.0ºC (-11.2ºF)\\nwinds from the SSE at 4.9 m/s (11.0 mph) gusting to 19.1 m/s (42.7 mph)\\npressure at 7.00 hPapic.twitter.com/P20JfRjcVi',\n",
       " 'InSight sol 324 (2019-10-25) low -102.4ºC (-152.3ºF) high -24.8ºC (-12.6ºF)\\nwinds from the SSE at 5.4 m/s (12.0 mph) gusting to 18.1 m/s (40.5 mph)\\npressure at 7.00 hPapic.twitter.com/goHqhpyD8O',\n",
       " 'InSight sol 322 (2019-10-23) pressure at 7.00 hPa',\n",
       " 'InSight sol 321 (2019-10-22) low -102.9ºC (-153.2ºF) high -24.6ºC (-12.3ºF)\\nwinds from the SSE at 4.8 m/s (10.8 mph) gusting to 18.6 m/s (41.6 mph)\\npressure at 7.10 hPapic.twitter.com/FsE4d1Fskt',\n",
       " 'InSight sol 320 (2019-10-21) low -102.4ºC (-152.3ºF) high -25.6ºC (-14.0ºF)\\nwinds from the SSE at 4.7 m/s (10.5 mph) gusting to 18.5 m/s (41.4 mph)\\npressure at 7.10 hPapic.twitter.com/TxQmtXP7xo',\n",
       " 'InSight sol 319 (2019-10-19) low -101.5ºC (-150.7ºF) high -25.5ºC (-13.9ºF)\\nwinds from the SSE at 4.6 m/s (10.4 mph) gusting to 18.4 m/s (41.2 mph)\\npressure at 7.10 hPapic.twitter.com/gdBUdujdVM',\n",
       " 'InSight sol 318 (2019-10-18) low -102.6ºC (-152.6ºF) high -24.6ºC (-12.4ºF)\\npressure at 7.10 hPa',\n",
       " 'InSight sol 317 (2019-10-18) low -103.2ºC (-153.8ºF) high -26.2ºC (-15.2ºF)\\nwinds from the SSE at 5.6 m/s (12.5 mph) gusting to 22.2 m/s (49.7 mph)\\npressure at 7.10 hPapic.twitter.com/LNDEvGwVDw',\n",
       " 'InSight sol 316 (2019-10-16) low -101.8ºC (-151.3ºF) high -25.7ºC (-14.3ºF)\\nwinds from the SSE at 4.7 m/s (10.5 mph) gusting to 18.2 m/s (40.8 mph)\\npressure at 7.10 hPapic.twitter.com/tXtGZA6IPW',\n",
       " 'InSight sol 315 (2019-10-15) low -101.6ºC (-150.9ºF) high -24.3ºC (-11.7ºF)\\nwinds from the SSE at 5.4 m/s (12.0 mph) gusting to 20.4 m/s (45.7 mph)\\npressure at 7.10 hPa',\n",
       " 'InSight sol 314 (2019-10-15) low -102.8ºC (-153.0ºF) high -24.8ºC (-12.6ºF)\\nwinds from the SSE at 4.9 m/s (11.1 mph) gusting to 19.7 m/s (44.0 mph)\\npressure at 7.20 hPapic.twitter.com/VONawbIeG4',\n",
       " 'InSight sol 313 (2019-10-14) low -101.4ºC (-150.6ºF) high -27.2ºC (-16.9ºF)\\nwinds from the SSE at 5.5 m/s (12.4 mph) gusting to 22.5 m/s (50.3 mph)\\npressure at 7.20 hPapic.twitter.com/2moNAouxXa',\n",
       " 'InSight sol 312 (2019-10-12) low -100.4ºC (-148.7ºF) high -26.0ºC (-14.8ºF)\\nwinds from the SSW at 4.8 m/s (10.6 mph) gusting to 19.5 m/s (43.6 mph)\\npressure at 7.20 hPapic.twitter.com/t0L5YpYPah',\n",
       " 'InSight sol 311 (2019-10-11) low -100.8ºC (-149.4ºF) high -26.4ºC (-15.4ºF)\\nwinds from the SSW at 4.8 m/s (10.6 mph) gusting to 19.1 m/s (42.6 mph)\\npressure at 7.20 hPapic.twitter.com/z5WeBicIrF',\n",
       " 'InSight sol 310 (2019-10-10) low -102.2ºC (-152.0ºF) high -26.6ºC (-15.8ºF)\\nwinds from the SSE at 5.0 m/s (11.2 mph) gusting to 19.1 m/s (42.8 mph)\\npressure at 7.20 hPapic.twitter.com/0Pt27sbe1R',\n",
       " 'InSight sol 309 (2019-10-10) low -102.3ºC (-152.1ºF) high -26.2ºC (-15.1ºF)\\nwinds from the SSE at 6.1 m/s (13.6 mph) gusting to 18.9 m/s (42.4 mph)\\npressure at 7.20 hPapic.twitter.com/sSOjseIl81',\n",
       " 'InSight sol 308 (2019-10-08) low -102.1ºC (-151.7ºF) high -25.6ºC (-14.1ºF)\\nwinds from the SSE at 4.7 m/s (10.6 mph) gusting to 18.1 m/s (40.6 mph)\\npressure at 7.20 hPapic.twitter.com/R30ApI4ZZI']"
      ]
     },
     "execution_count": 36,
     "metadata": {},
     "output_type": "execute_result"
    }
   ],
   "source": [
    "weather"
   ]
  },
  {
   "cell_type": "code",
   "execution_count": 49,
   "metadata": {},
   "outputs": [
    {
     "name": "stdout",
     "output_type": "stream",
     "text": [
      "sol\n",
      "sol\n",
      "sol\n",
      "sol\n",
      "sol\n",
      "sol\n",
      "sol\n",
      "sol\n",
      "sol\n",
      "sol\n",
      "sol\n",
      "sol\n",
      "sol\n",
      "sol\n",
      "sol\n",
      "sol\n",
      "sol\n",
      "a k\n",
      "sol\n",
      "sol\n"
     ]
    }
   ],
   "source": [
    "for value2 in reversed(weather):\n",
    "    #print(value2[8:11])\n",
    "    if value2[8:11]=='sol':\n",
    "        mars_weather = value2"
   ]
  },
  {
   "cell_type": "code",
   "execution_count": null,
   "metadata": {},
   "outputs": [],
   "source": []
  },
  {
   "cell_type": "code",
   "execution_count": 50,
   "metadata": {},
   "outputs": [
    {
     "data": {
      "text/plain": [
       "'InSight sol 327 (2019-10-28) low -102.6ºC (-152.7ºF) high -25.3ºC (-13.5ºF)\\nwinds from the SSE at 5.6 m/s (12.5 mph) gusting to 19.6 m/s (43.8 mph)\\npressure at 7.00 hPapic.twitter.com/B3xpG54HEx'"
      ]
     },
     "execution_count": 50,
     "metadata": {},
     "output_type": "execute_result"
    }
   ],
   "source": [
    "mars_weather\n"
   ]
  },
  {
   "cell_type": "code",
   "execution_count": 51,
   "metadata": {},
   "outputs": [],
   "source": [
    "browser.quit() "
   ]
  },
  {
   "cell_type": "code",
   "execution_count": null,
   "metadata": {},
   "outputs": [],
   "source": []
  },
  {
   "cell_type": "code",
   "execution_count": null,
   "metadata": {},
   "outputs": [],
   "source": []
  },
  {
   "cell_type": "code",
   "execution_count": null,
   "metadata": {},
   "outputs": [],
   "source": []
  },
  {
   "cell_type": "code",
   "execution_count": 52,
   "metadata": {},
   "outputs": [],
   "source": [
    "facts_url = 'https://space-facts.com/mars/'"
   ]
  },
  {
   "cell_type": "code",
   "execution_count": 53,
   "metadata": {},
   "outputs": [],
   "source": [
    "fact_list = pd.read_html(facts_url)"
   ]
  },
  {
   "cell_type": "code",
   "execution_count": 54,
   "metadata": {},
   "outputs": [],
   "source": [
    "facts_df = fact_list[0] "
   ]
  },
  {
   "cell_type": "code",
   "execution_count": 55,
   "metadata": {},
   "outputs": [
    {
     "data": {
      "text/html": [
       "<div>\n",
       "<style scoped>\n",
       "    .dataframe tbody tr th:only-of-type {\n",
       "        vertical-align: middle;\n",
       "    }\n",
       "\n",
       "    .dataframe tbody tr th {\n",
       "        vertical-align: top;\n",
       "    }\n",
       "\n",
       "    .dataframe thead th {\n",
       "        text-align: right;\n",
       "    }\n",
       "</style>\n",
       "<table border=\"1\" class=\"dataframe\">\n",
       "  <thead>\n",
       "    <tr style=\"text-align: right;\">\n",
       "      <th></th>\n",
       "      <th>Mars - Earth Comparison</th>\n",
       "      <th>Mars</th>\n",
       "      <th>Earth</th>\n",
       "    </tr>\n",
       "  </thead>\n",
       "  <tbody>\n",
       "    <tr>\n",
       "      <th>0</th>\n",
       "      <td>Diameter:</td>\n",
       "      <td>6,779 km</td>\n",
       "      <td>12,742 km</td>\n",
       "    </tr>\n",
       "    <tr>\n",
       "      <th>1</th>\n",
       "      <td>Mass:</td>\n",
       "      <td>6.39 × 10^23 kg</td>\n",
       "      <td>5.97 × 10^24 kg</td>\n",
       "    </tr>\n",
       "    <tr>\n",
       "      <th>2</th>\n",
       "      <td>Moons:</td>\n",
       "      <td>2</td>\n",
       "      <td>1</td>\n",
       "    </tr>\n",
       "    <tr>\n",
       "      <th>3</th>\n",
       "      <td>Distance from Sun:</td>\n",
       "      <td>227,943,824 km</td>\n",
       "      <td>149,598,262 km</td>\n",
       "    </tr>\n",
       "    <tr>\n",
       "      <th>4</th>\n",
       "      <td>Length of Year:</td>\n",
       "      <td>687 Earth days</td>\n",
       "      <td>365.24 days</td>\n",
       "    </tr>\n",
       "    <tr>\n",
       "      <th>5</th>\n",
       "      <td>Temperature:</td>\n",
       "      <td>-153 to 20 °C</td>\n",
       "      <td>-88 to 58°C</td>\n",
       "    </tr>\n",
       "  </tbody>\n",
       "</table>\n",
       "</div>"
      ],
      "text/plain": [
       "  Mars - Earth Comparison             Mars            Earth\n",
       "0               Diameter:         6,779 km        12,742 km\n",
       "1                   Mass:  6.39 × 10^23 kg  5.97 × 10^24 kg\n",
       "2                  Moons:                2                1\n",
       "3      Distance from Sun:   227,943,824 km   149,598,262 km\n",
       "4         Length of Year:   687 Earth days      365.24 days\n",
       "5            Temperature:    -153 to 20 °C      -88 to 58°C"
      ]
     },
     "execution_count": 55,
     "metadata": {},
     "output_type": "execute_result"
    }
   ],
   "source": [
    "facts_df"
   ]
  },
  {
   "cell_type": "code",
   "execution_count": 56,
   "metadata": {},
   "outputs": [],
   "source": [
    "facts_table = facts_df.to_html(header=False, index=False)"
   ]
  },
  {
   "cell_type": "code",
   "execution_count": 57,
   "metadata": {},
   "outputs": [
    {
     "name": "stdout",
     "output_type": "stream",
     "text": [
      "<table border=\"1\" class=\"dataframe\">\n",
      "  <tbody>\n",
      "    <tr>\n",
      "      <td>Diameter:</td>\n",
      "      <td>6,779 km</td>\n",
      "      <td>12,742 km</td>\n",
      "    </tr>\n",
      "    <tr>\n",
      "      <td>Mass:</td>\n",
      "      <td>6.39 × 10^23 kg</td>\n",
      "      <td>5.97 × 10^24 kg</td>\n",
      "    </tr>\n",
      "    <tr>\n",
      "      <td>Moons:</td>\n",
      "      <td>2</td>\n",
      "      <td>1</td>\n",
      "    </tr>\n",
      "    <tr>\n",
      "      <td>Distance from Sun:</td>\n",
      "      <td>227,943,824 km</td>\n",
      "      <td>149,598,262 km</td>\n",
      "    </tr>\n",
      "    <tr>\n",
      "      <td>Length of Year:</td>\n",
      "      <td>687 Earth days</td>\n",
      "      <td>365.24 days</td>\n",
      "    </tr>\n",
      "    <tr>\n",
      "      <td>Temperature:</td>\n",
      "      <td>-153 to 20 °C</td>\n",
      "      <td>-88 to 58°C</td>\n",
      "    </tr>\n",
      "  </tbody>\n",
      "</table>\n"
     ]
    }
   ],
   "source": [
    "print(facts_table)"
   ]
  },
  {
   "cell_type": "code",
   "execution_count": 58,
   "metadata": {},
   "outputs": [],
   "source": [
    "browser = Browser('chrome', headless=False)\n",
    "usgs_url = 'https://astrogeology.usgs.gov/search/results?q=hemisphere+enhanced&k1=target&v1=Mars'\n",
    "browser.visit(usgs_url)"
   ]
  },
  {
   "cell_type": "code",
   "execution_count": 59,
   "metadata": {},
   "outputs": [],
   "source": [
    "usgs_html = browser.html\n",
    "usgs_soup = bs(usgs_html, 'html.parser')"
   ]
  },
  {
   "cell_type": "code",
   "execution_count": 62,
   "metadata": {},
   "outputs": [
    {
     "ename": "AttributeError",
     "evalue": "'NoneType' object has no attribute 'find_all'",
     "output_type": "error",
     "traceback": [
      "\u001b[1;31m---------------------------------------------------------------------------\u001b[0m",
      "\u001b[1;31mAttributeError\u001b[0m                            Traceback (most recent call last)",
      "\u001b[1;32m<ipython-input-62-8eca2b52a81b>\u001b[0m in \u001b[0;36m<module>\u001b[1;34m\u001b[0m\n\u001b[0;32m      1\u001b[0m \u001b[0mhemisphere_image_urls\u001b[0m \u001b[1;33m=\u001b[0m \u001b[1;33m[\u001b[0m\u001b[1;33m]\u001b[0m\u001b[1;33m\u001b[0m\u001b[1;33m\u001b[0m\u001b[0m\n\u001b[0;32m      2\u001b[0m \u001b[0mproducts\u001b[0m \u001b[1;33m=\u001b[0m \u001b[0musgs_soup\u001b[0m\u001b[1;33m.\u001b[0m\u001b[0mfind\u001b[0m\u001b[1;33m(\u001b[0m\u001b[1;34m'div'\u001b[0m\u001b[1;33m,\u001b[0m \u001b[0mclass_\u001b[0m\u001b[1;33m=\u001b[0m\u001b[1;34m'result-list'\u001b[0m\u001b[1;33m)\u001b[0m\u001b[1;33m\u001b[0m\u001b[1;33m\u001b[0m\u001b[0m\n\u001b[1;32m----> 3\u001b[1;33m \u001b[0mhemispheres\u001b[0m \u001b[1;33m=\u001b[0m \u001b[0mproducts\u001b[0m\u001b[1;33m.\u001b[0m\u001b[0mfind_all\u001b[0m\u001b[1;33m(\u001b[0m\u001b[1;34m'div'\u001b[0m\u001b[1;33m,\u001b[0m \u001b[0mclass_\u001b[0m\u001b[1;33m=\u001b[0m\u001b[1;34m'item'\u001b[0m\u001b[1;33m)\u001b[0m\u001b[1;33m\u001b[0m\u001b[1;33m\u001b[0m\u001b[0m\n\u001b[0m\u001b[0;32m      4\u001b[0m \u001b[1;33m\u001b[0m\u001b[0m\n\u001b[0;32m      5\u001b[0m \u001b[1;31m#\u001b[0m\u001b[1;33m\u001b[0m\u001b[1;33m\u001b[0m\u001b[1;33m\u001b[0m\u001b[0m\n",
      "\u001b[1;31mAttributeError\u001b[0m: 'NoneType' object has no attribute 'find_all'"
     ]
    }
   ],
   "source": [
    "hemisphere_image_urls = []\n",
    "products = usgs_soup.find('div', class_='result-list')                      \n",
    "hemispheres = products.find_all('div', class_='item')\n",
    "\n",
    "#"
   ]
  },
  {
   "cell_type": "code",
   "execution_count": null,
   "metadata": {},
   "outputs": [],
   "source": []
  }
 ],
 "metadata": {
  "kernelspec": {
   "display_name": "Python 3",
   "language": "python",
   "name": "python3"
  },
  "language_info": {
   "codemirror_mode": {
    "name": "ipython",
    "version": 3
   },
   "file_extension": ".py",
   "mimetype": "text/x-python",
   "name": "python",
   "nbconvert_exporter": "python",
   "pygments_lexer": "ipython3",
   "version": "3.7.3"
  }
 },
 "nbformat": 4,
 "nbformat_minor": 2
}
